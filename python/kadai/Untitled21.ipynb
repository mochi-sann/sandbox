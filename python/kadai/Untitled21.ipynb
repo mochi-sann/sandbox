{
  "cells": [
    {
      "cell_type": "code",
      "execution_count": null,
      "metadata": {
        "colab": {
          "base_uri": "https://localhost:8080/"
        },
        "id": "x33f_zfhmpMa",
        "outputId": "83157f8e-f1cb-47b1-b00c-a94b61933944"
      },
      "outputs": [
        {
          "name": "stdout",
          "output_type": "stream",
          "text": [
            "845650\n"
          ]
        }
      ],
      "source": [
        "sum = 0\n",
        "for i in range(1300 + 1):\n",
        "  sum += i\n",
        "print(sum)"
      ]
    },
    {
      "cell_type": "code",
      "execution_count": null,
      "metadata": {},
      "outputs": [
        {
          "name": "stdout",
          "output_type": "stream",
          "text": [
            "[0, 1, 1, 2, 3, 5, 8, 13, 21, 34, 55, 89, 144, 233, 377, 610, 987, 1597, 2584, 4181, 6765, 10946, 17711, 28657, 46368, 75025, 121393, 196418, 317811, 514229, 832040, 1346269, 2178309, 3524578, 5702887, 9227465, 14930352, 24157817, 39088169, 63245986, 102334155, 165580141, 267914296, 433494437, 701408733, 1134903170, 1836311903, 2971215073, 4807526976, 7778742049, 12586269025, 20365011074, 32951280099, 53316291173, 86267571272, 139583862445, 225851433717, 365435296162, 591286729879, 956722026041, 1548008755920, 2504730781961, 4052739537881, 6557470319842, 10610209857723, 17167680177565, 27777890035288, 44945570212853, 72723460248141, 117669030460994, 190392490709135, 308061521170129, 498454011879264, 806515533049393, 1304969544928657, 2111485077978050, 3416454622906707, 5527939700884757, 8944394323791464, 14472334024676221, 23416728348467685, 37889062373143906, 61305790721611591, 99194853094755497, 160500643816367088, 259695496911122585, 420196140727489673, 679891637638612258, 1100087778366101931, 1779979416004714189, 2880067194370816120, 4660046610375530309, 7540113804746346429, 12200160415121876738, 19740274219868223167, 31940434634990099905, 51680708854858323072, 83621143489848422977, 135301852344706746049, 218922995834555169026, 354224848179261915075, 573147844013817084101]\n"
          ]
        }
      ],
      "source": [
        "\n",
        "list_list = [ 0,1]\n",
        "\n",
        "for i in range(100):\n",
        "    sum = list_list[-1] + list_list[-2]\n",
        "    list_list.append(sum)\n",
        "print(list_list)\n"
      ]
    },
    {
      "cell_type": "code",
      "execution_count": 12,
      "metadata": {
        "id": "LHeEUIukoNNL"
      },
      "outputs": [
        {
          "name": "stdout",
          "output_type": "stream",
          "text": [
            "1\n",
            "2\n",
            "Buzz\n",
            "4\n",
            "Fizz\n",
            "Buzz\n",
            "7\n",
            "8\n",
            "Buzz\n",
            "Fizz\n",
            "11\n",
            "Buzz\n",
            "13\n",
            "14\n",
            "Fizzbuzz\n",
            "16\n",
            "17\n",
            "Buzz\n",
            "19\n",
            "Fizz\n",
            "Buzz\n",
            "22\n",
            "23\n",
            "Buzz\n",
            "Fizz\n",
            "26\n",
            "Buzz\n",
            "28\n",
            "29\n",
            "Fizzbuzz\n",
            "31\n",
            "32\n",
            "Buzz\n",
            "34\n",
            "Fizz\n",
            "Buzz\n",
            "37\n",
            "38\n",
            "Buzz\n",
            "Fizz\n",
            "41\n",
            "Buzz\n",
            "43\n",
            "44\n",
            "Fizzbuzz\n",
            "46\n",
            "47\n",
            "Buzz\n",
            "49\n",
            "Fizz\n",
            "Buzz\n",
            "52\n",
            "53\n",
            "Buzz\n",
            "Fizz\n",
            "56\n",
            "Buzz\n",
            "58\n",
            "59\n",
            "Fizzbuzz\n",
            "61\n",
            "62\n",
            "Buzz\n",
            "64\n",
            "Fizz\n",
            "Buzz\n",
            "67\n",
            "68\n",
            "Buzz\n",
            "Fizz\n",
            "71\n",
            "Buzz\n",
            "73\n",
            "74\n",
            "Fizzbuzz\n",
            "76\n",
            "77\n",
            "Buzz\n",
            "79\n",
            "Fizz\n",
            "Buzz\n",
            "82\n",
            "83\n",
            "Buzz\n",
            "Fizz\n",
            "86\n",
            "Buzz\n",
            "88\n",
            "89\n",
            "Fizzbuzz\n",
            "91\n",
            "92\n",
            "Buzz\n",
            "94\n",
            "Fizz\n",
            "Buzz\n",
            "97\n",
            "98\n",
            "Buzz\n"
          ]
        }
      ],
      "source": [
        "for i in range(1,100):\n",
        "    if i % 15 == 0:\n",
        "        print(\"Fizzbuzz\")\n",
        "    elif i % 5 == 0 : \n",
        "        print(\"Fizz\")\n",
        "    elif i % 3 == 0 : \n",
        "        print(\"Buzz\")\n",
        "    else: \n",
        "        print(i)\n",
        "\n"
      ]
    },
    {
      "cell_type": "code",
      "execution_count": 13,
      "metadata": {},
      "outputs": [
        {
          "name": "stdout",
          "output_type": "stream",
          "text": [
            "2\n",
            "3\n",
            "5\n",
            "7\n",
            "11\n",
            "13\n",
            "17\n",
            "19\n",
            "23\n",
            "29\n",
            "31\n",
            "37\n",
            "41\n",
            "43\n",
            "47\n",
            "53\n",
            "59\n",
            "61\n",
            "67\n",
            "71\n",
            "73\n",
            "79\n",
            "83\n",
            "89\n",
            "97\n"
          ]
        }
      ],
      "source": [
        "# 素数かどうかを判定する関数\n",
        "def is_prime(n):\n",
        "    if n == 1:\n",
        "        return False\n",
        "    for i in range(2, int(n**0.5)+1): # 2~√nまでの数で割り切れるかどうかを判定\n",
        "        if n % i == 0:\n",
        "            return False\n",
        "    return True\n",
        "\n",
        "# メルセンヌかどうかを判定する関数\n",
        "def is_mersenne_number(n):\n",
        "    if n == 1:\n",
        "        return False\n",
        "    for i in range(2, int(n**0.5)+1): # 2~√nまでの数で割り切れるかどうかを判定\n",
        "        if n % i == 0:\n",
        "            return False\n",
        "    return True\n",
        "\n",
        "\n",
        "for i in range(1, 100):\n",
        "    if is_mersenne_number(i) :\n",
        "        if is_prime(i):\n",
        "            print(i)"
      ]
    },
    {
      "cell_type": "code",
      "execution_count": 14,
      "metadata": {},
      "outputs": [
        {
          "name": "stdout",
          "output_type": "stream",
          "text": [
            "0 : 0\n",
            "1 : 1\n",
            "2 : 1\n",
            "3 : 2\n",
            "4 : 3\n",
            "5 : 5\n",
            "6 : 8\n",
            "7 : 13\n",
            "8 : 21\n",
            "9 : 34\n",
            "10 : 55\n",
            "11 : 89\n",
            "12 : 144\n",
            "13 : 233\n",
            "14 : 377\n",
            "15 : 610\n",
            "16 : 987\n",
            "17 : 1597\n",
            "18 : 2584\n",
            "19 : 4181\n",
            "20 : 6765\n",
            "21 : 10946\n",
            "22 : 17711\n",
            "23 : 28657\n",
            "24 : 46368\n",
            "25 : 75025\n",
            "26 : 121393\n",
            "27 : 196418\n",
            "28 : 317811\n",
            "29 : 514229\n",
            "30 : 832040\n",
            "31 : 1346269\n",
            "32 : 2178309\n",
            "33 : 3524578\n",
            "34 : 5702887\n",
            "35 : 9227465\n",
            "36 : 14930352\n",
            "37 : 24157817\n",
            "38 : 39088169\n",
            "39 : 63245986\n",
            "40 : 102334155\n",
            "41 : 165580141\n",
            "42 : 267914296\n",
            "43 : 433494437\n"
          ]
        },
        {
          "ename": "KeyboardInterrupt",
          "evalue": "",
          "output_type": "error",
          "traceback": [
            "\u001b[0;31m---------------------------------------------------------------------------\u001b[0m",
            "\u001b[0;31mKeyboardInterrupt\u001b[0m                         Traceback (most recent call last)",
            "\u001b[1;32m/home/mochi/codespace/github.com/mochi-sann/sandbox/python/kadai/Untitled21.ipynb セル 5\u001b[0m line \u001b[0;36m9\n\u001b[1;32m      <a href='vscode-notebook-cell://wsl%2Barch/home/mochi/codespace/github.com/mochi-sann/sandbox/python/kadai/Untitled21.ipynb#W5sdnNjb2RlLXJlbW90ZQ%3D%3D?line=6'>7</a>\u001b[0m     \u001b[39mreturn\u001b[39;00m fib(i\u001b[39m-\u001b[39m\u001b[39m1\u001b[39m) \u001b[39m+\u001b[39m fib(i\u001b[39m-\u001b[39m\u001b[39m2\u001b[39m)\n\u001b[1;32m      <a href='vscode-notebook-cell://wsl%2Barch/home/mochi/codespace/github.com/mochi-sann/sandbox/python/kadai/Untitled21.ipynb#W5sdnNjb2RlLXJlbW90ZQ%3D%3D?line=7'>8</a>\u001b[0m \u001b[39mfor\u001b[39;00m i \u001b[39min\u001b[39;00m \u001b[39mrange\u001b[39m(\u001b[39m100\u001b[39m):\n\u001b[0;32m----> <a href='vscode-notebook-cell://wsl%2Barch/home/mochi/codespace/github.com/mochi-sann/sandbox/python/kadai/Untitled21.ipynb#W5sdnNjb2RlLXJlbW90ZQ%3D%3D?line=8'>9</a>\u001b[0m   \u001b[39mprint\u001b[39m(\u001b[39mstr\u001b[39m(i) \u001b[39m+\u001b[39m \u001b[39m\"\u001b[39m\u001b[39m : \u001b[39m\u001b[39m\"\u001b[39m \u001b[39m+\u001b[39m \u001b[39mstr\u001b[39m(fib(i)))\n",
            "\u001b[1;32m/home/mochi/codespace/github.com/mochi-sann/sandbox/python/kadai/Untitled21.ipynb セル 5\u001b[0m line \u001b[0;36m7\n\u001b[1;32m      <a href='vscode-notebook-cell://wsl%2Barch/home/mochi/codespace/github.com/mochi-sann/sandbox/python/kadai/Untitled21.ipynb#W5sdnNjb2RlLXJlbW90ZQ%3D%3D?line=4'>5</a>\u001b[0m   \u001b[39mreturn\u001b[39;00m i\n\u001b[1;32m      <a href='vscode-notebook-cell://wsl%2Barch/home/mochi/codespace/github.com/mochi-sann/sandbox/python/kadai/Untitled21.ipynb#W5sdnNjb2RlLXJlbW90ZQ%3D%3D?line=5'>6</a>\u001b[0m \u001b[39melse\u001b[39;00m:\n\u001b[0;32m----> <a href='vscode-notebook-cell://wsl%2Barch/home/mochi/codespace/github.com/mochi-sann/sandbox/python/kadai/Untitled21.ipynb#W5sdnNjb2RlLXJlbW90ZQ%3D%3D?line=6'>7</a>\u001b[0m   \u001b[39mreturn\u001b[39;00m fib(i\u001b[39m-\u001b[39m\u001b[39m1\u001b[39m) \u001b[39m+\u001b[39m fib(i\u001b[39m-\u001b[39;49m\u001b[39m2\u001b[39;49m)\n",
            "\u001b[1;32m/home/mochi/codespace/github.com/mochi-sann/sandbox/python/kadai/Untitled21.ipynb セル 5\u001b[0m line \u001b[0;36m7\n\u001b[1;32m      <a href='vscode-notebook-cell://wsl%2Barch/home/mochi/codespace/github.com/mochi-sann/sandbox/python/kadai/Untitled21.ipynb#W5sdnNjb2RlLXJlbW90ZQ%3D%3D?line=4'>5</a>\u001b[0m   \u001b[39mreturn\u001b[39;00m i\n\u001b[1;32m      <a href='vscode-notebook-cell://wsl%2Barch/home/mochi/codespace/github.com/mochi-sann/sandbox/python/kadai/Untitled21.ipynb#W5sdnNjb2RlLXJlbW90ZQ%3D%3D?line=5'>6</a>\u001b[0m \u001b[39melse\u001b[39;00m:\n\u001b[0;32m----> <a href='vscode-notebook-cell://wsl%2Barch/home/mochi/codespace/github.com/mochi-sann/sandbox/python/kadai/Untitled21.ipynb#W5sdnNjb2RlLXJlbW90ZQ%3D%3D?line=6'>7</a>\u001b[0m   \u001b[39mreturn\u001b[39;00m fib(i\u001b[39m-\u001b[39;49m\u001b[39m1\u001b[39;49m) \u001b[39m+\u001b[39m fib(i\u001b[39m-\u001b[39m\u001b[39m2\u001b[39m)\n",
            "    \u001b[0;31m[... skipping similar frames: fib at line 7 (29 times)]\u001b[0m\n",
            "\u001b[1;32m/home/mochi/codespace/github.com/mochi-sann/sandbox/python/kadai/Untitled21.ipynb セル 5\u001b[0m line \u001b[0;36m7\n\u001b[1;32m      <a href='vscode-notebook-cell://wsl%2Barch/home/mochi/codespace/github.com/mochi-sann/sandbox/python/kadai/Untitled21.ipynb#W5sdnNjb2RlLXJlbW90ZQ%3D%3D?line=4'>5</a>\u001b[0m   \u001b[39mreturn\u001b[39;00m i\n\u001b[1;32m      <a href='vscode-notebook-cell://wsl%2Barch/home/mochi/codespace/github.com/mochi-sann/sandbox/python/kadai/Untitled21.ipynb#W5sdnNjb2RlLXJlbW90ZQ%3D%3D?line=5'>6</a>\u001b[0m \u001b[39melse\u001b[39;00m:\n\u001b[0;32m----> <a href='vscode-notebook-cell://wsl%2Barch/home/mochi/codespace/github.com/mochi-sann/sandbox/python/kadai/Untitled21.ipynb#W5sdnNjb2RlLXJlbW90ZQ%3D%3D?line=6'>7</a>\u001b[0m   \u001b[39mreturn\u001b[39;00m fib(i\u001b[39m-\u001b[39m\u001b[39m1\u001b[39m) \u001b[39m+\u001b[39m fib(i\u001b[39m-\u001b[39;49m\u001b[39m2\u001b[39;49m)\n",
            "\u001b[1;32m/home/mochi/codespace/github.com/mochi-sann/sandbox/python/kadai/Untitled21.ipynb セル 5\u001b[0m line \u001b[0;36m1\n\u001b[0;32m----> <a href='vscode-notebook-cell://wsl%2Barch/home/mochi/codespace/github.com/mochi-sann/sandbox/python/kadai/Untitled21.ipynb#W5sdnNjb2RlLXJlbW90ZQ%3D%3D?line=0'>1</a>\u001b[0m \u001b[39mdef\u001b[39;00m \u001b[39mfib\u001b[39m(i):\n\u001b[1;32m      <a href='vscode-notebook-cell://wsl%2Barch/home/mochi/codespace/github.com/mochi-sann/sandbox/python/kadai/Untitled21.ipynb#W5sdnNjb2RlLXJlbW90ZQ%3D%3D?line=1'>2</a>\u001b[0m   \u001b[39mif\u001b[39;00m(i \u001b[39m==\u001b[39m \u001b[39m0\u001b[39m):\n\u001b[1;32m      <a href='vscode-notebook-cell://wsl%2Barch/home/mochi/codespace/github.com/mochi-sann/sandbox/python/kadai/Untitled21.ipynb#W5sdnNjb2RlLXJlbW90ZQ%3D%3D?line=2'>3</a>\u001b[0m     \u001b[39mreturn\u001b[39;00m \u001b[39m0\u001b[39m\n",
            "\u001b[0;31mKeyboardInterrupt\u001b[0m: "
          ]
        }
      ],
      "source": [
        "def fib(i):\n",
        "  if(i == 0):\n",
        "    return 0\n",
        "  elif (i==1):\n",
        "    return i\n",
        "  else:\n",
        "    return fib(i-1) + fib(i-2)\n",
        "for i in range(100):\n",
        "  print(str(i) + \" : \" + str(fib(i)))"
      ]
    }
  ],
  "metadata": {
    "colab": {
      "provenance": []
    },
    "kernelspec": {
      "display_name": "Python 3",
      "name": "python3"
    },
    "language_info": {
      "codemirror_mode": {
        "name": "ipython",
        "version": 3
      },
      "file_extension": ".py",
      "mimetype": "text/x-python",
      "name": "python",
      "nbconvert_exporter": "python",
      "pygments_lexer": "ipython3",
      "version": "3.11.5"
    }
  },
  "nbformat": 4,
  "nbformat_minor": 0
}
